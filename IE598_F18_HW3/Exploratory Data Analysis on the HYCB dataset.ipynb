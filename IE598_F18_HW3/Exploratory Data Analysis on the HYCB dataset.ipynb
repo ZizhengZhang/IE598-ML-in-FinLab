{
 "cells": [
  {
   "cell_type": "markdown",
   "metadata": {},
   "source": [
    "# Exploratory Data Analysis on the HYCB dataset"
   ]
  },
  {
   "cell_type": "code",
   "execution_count": 1,
   "metadata": {},
   "outputs": [],
   "source": [
    "import pandas as pd\n",
    "import numpy as np\n",
    "import matplotlib.pyplot as plt"
   ]
  },
  {
   "cell_type": "code",
   "execution_count": 2,
   "metadata": {},
   "outputs": [
    {
     "data": {
      "text/html": [
       "<div>\n",
       "<style scoped>\n",
       "    .dataframe tbody tr th:only-of-type {\n",
       "        vertical-align: middle;\n",
       "    }\n",
       "\n",
       "    .dataframe tbody tr th {\n",
       "        vertical-align: top;\n",
       "    }\n",
       "\n",
       "    .dataframe thead th {\n",
       "        text-align: right;\n",
       "    }\n",
       "</style>\n",
       "<table border=\"1\" class=\"dataframe\">\n",
       "  <thead>\n",
       "    <tr style=\"text-align: right;\">\n",
       "      <th></th>\n",
       "      <th>CUSIP</th>\n",
       "      <th>Ticker</th>\n",
       "      <th>Issue Date</th>\n",
       "      <th>Maturity</th>\n",
       "      <th>1st Call Date</th>\n",
       "      <th>Moodys</th>\n",
       "      <th>S_and_P</th>\n",
       "      <th>Fitch</th>\n",
       "      <th>Bloomberg Composite Rating</th>\n",
       "      <th>Coupon</th>\n",
       "      <th>Issued Amount</th>\n",
       "      <th>Maturity Type</th>\n",
       "      <th>Coupon Type</th>\n",
       "      <th>Industry</th>\n",
       "      <th>Months in JNK</th>\n",
       "      <th>Months in HYG</th>\n",
       "      <th>Months in Both</th>\n",
       "      <th>LIQ SCORE</th>\n",
       "    </tr>\n",
       "  </thead>\n",
       "  <tbody>\n",
       "    <tr>\n",
       "      <th>0</th>\n",
       "      <td>00213MAL8</td>\n",
       "      <td>APXSEC</td>\n",
       "      <td>8/17/2016</td>\n",
       "      <td>12/1/2022</td>\n",
       "      <td>Nan</td>\n",
       "      <td>Nan</td>\n",
       "      <td>B-</td>\n",
       "      <td>Nan</td>\n",
       "      <td>NR</td>\n",
       "      <td>7.875</td>\n",
       "      <td>100000000</td>\n",
       "      <td>CALLABLE</td>\n",
       "      <td>EXCHANGED</td>\n",
       "      <td>Commercial Services</td>\n",
       "      <td>2</td>\n",
       "      <td>0</td>\n",
       "      <td>0</td>\n",
       "      <td>10.822582</td>\n",
       "    </tr>\n",
       "    <tr>\n",
       "      <th>1</th>\n",
       "      <td>576485AC0</td>\n",
       "      <td>MTDR</td>\n",
       "      <td>12/9/2016</td>\n",
       "      <td>4/15/2023</td>\n",
       "      <td>Nan</td>\n",
       "      <td>B3</td>\n",
       "      <td>NR</td>\n",
       "      <td>Nan</td>\n",
       "      <td>NR</td>\n",
       "      <td>6.875</td>\n",
       "      <td>175000000</td>\n",
       "      <td>CALLABLE</td>\n",
       "      <td>EXCHANGED</td>\n",
       "      <td>Oil Gas</td>\n",
       "      <td>4</td>\n",
       "      <td>0</td>\n",
       "      <td>0</td>\n",
       "      <td>11.392744</td>\n",
       "    </tr>\n",
       "    <tr>\n",
       "      <th>2</th>\n",
       "      <td>18683KAJ0</td>\n",
       "      <td>CLF</td>\n",
       "      <td>3/2/2016</td>\n",
       "      <td>9/30/2020</td>\n",
       "      <td>Nan</td>\n",
       "      <td>WR</td>\n",
       "      <td>NR</td>\n",
       "      <td>Nan</td>\n",
       "      <td>NR</td>\n",
       "      <td>8.000</td>\n",
       "      <td>218545000</td>\n",
       "      <td>CALLABLE</td>\n",
       "      <td>FIXED</td>\n",
       "      <td>Iron/Steel</td>\n",
       "      <td>0</td>\n",
       "      <td>1</td>\n",
       "      <td>0</td>\n",
       "      <td>12.567121</td>\n",
       "    </tr>\n",
       "    <tr>\n",
       "      <th>3</th>\n",
       "      <td>172441BA4</td>\n",
       "      <td>CNK</td>\n",
       "      <td>3/21/2016</td>\n",
       "      <td>6/1/2023</td>\n",
       "      <td>Nan</td>\n",
       "      <td>B2</td>\n",
       "      <td>BB</td>\n",
       "      <td>Nan</td>\n",
       "      <td>B+</td>\n",
       "      <td>4.875</td>\n",
       "      <td>225000000</td>\n",
       "      <td>CALLABLE</td>\n",
       "      <td>EXCHANGED</td>\n",
       "      <td>Entertainment</td>\n",
       "      <td>2</td>\n",
       "      <td>2</td>\n",
       "      <td>1</td>\n",
       "      <td>12.536384</td>\n",
       "    </tr>\n",
       "    <tr>\n",
       "      <th>4</th>\n",
       "      <td>184496AM9</td>\n",
       "      <td>CLH</td>\n",
       "      <td>3/17/2016</td>\n",
       "      <td>6/1/2021</td>\n",
       "      <td>Nan</td>\n",
       "      <td>Nan</td>\n",
       "      <td>BB+</td>\n",
       "      <td>Nan</td>\n",
       "      <td>NR</td>\n",
       "      <td>5.125</td>\n",
       "      <td>250000000</td>\n",
       "      <td>CALLABLE</td>\n",
       "      <td>EXCHANGED</td>\n",
       "      <td>Environmental Control</td>\n",
       "      <td>3</td>\n",
       "      <td>0</td>\n",
       "      <td>0</td>\n",
       "      <td>11.572853</td>\n",
       "    </tr>\n",
       "  </tbody>\n",
       "</table>\n",
       "</div>"
      ],
      "text/plain": [
       "       CUSIP  Ticker Issue Date   Maturity 1st Call Date Moodys S_and_P Fitch  \\\n",
       "0  00213MAL8  APXSEC  8/17/2016  12/1/2022           Nan    Nan      B-   Nan   \n",
       "1  576485AC0    MTDR  12/9/2016  4/15/2023           Nan     B3      NR   Nan   \n",
       "2  18683KAJ0     CLF   3/2/2016  9/30/2020           Nan     WR      NR   Nan   \n",
       "3  172441BA4     CNK  3/21/2016   6/1/2023           Nan     B2      BB   Nan   \n",
       "4  184496AM9     CLH  3/17/2016   6/1/2021           Nan    Nan     BB+   Nan   \n",
       "\n",
       "  Bloomberg Composite Rating  Coupon  Issued Amount Maturity Type Coupon Type  \\\n",
       "0                         NR   7.875      100000000      CALLABLE   EXCHANGED   \n",
       "1                         NR   6.875      175000000      CALLABLE   EXCHANGED   \n",
       "2                         NR   8.000      218545000      CALLABLE       FIXED   \n",
       "3                         B+   4.875      225000000      CALLABLE   EXCHANGED   \n",
       "4                         NR   5.125      250000000      CALLABLE   EXCHANGED   \n",
       "\n",
       "                Industry  Months in JNK  Months in HYG  Months in Both  \\\n",
       "0    Commercial Services              2              0               0   \n",
       "1                Oil Gas              4              0               0   \n",
       "2             Iron/Steel              0              1               0   \n",
       "3          Entertainment              2              2               1   \n",
       "4  Environmental Control              3              0               0   \n",
       "\n",
       "   LIQ SCORE  \n",
       "0  10.822582  \n",
       "1  11.392744  \n",
       "2  12.567121  \n",
       "3  12.536384  \n",
       "4  11.572853  "
      ]
     },
     "execution_count": 2,
     "metadata": {},
     "output_type": "execute_result"
    }
   ],
   "source": [
    "# Read the data set to a pandas dataframe\n",
    "HYCB = pd.read_csv('HY_Universe_26k_basicliquidityscoring_INETF.csv')\n",
    "HYCB.head()"
   ]
  },
  {
   "cell_type": "code",
   "execution_count": 3,
   "metadata": {},
   "outputs": [
    {
     "name": "stdout",
     "output_type": "stream",
     "text": [
      "Number of rows of data:  1325\n",
      "Number of columns of data:  18\n"
     ]
    }
   ],
   "source": [
    "print('Number of rows of data: ', HYCB.shape[0])\n",
    "print('Number of columns of data: ', HYCB.shape[1])"
   ]
  },
  {
   "cell_type": "code",
   "execution_count": 4,
   "metadata": {},
   "outputs": [
    {
     "name": "stdout",
     "output_type": "stream",
     "text": [
      "<class 'pandas.core.frame.DataFrame'>\n",
      "RangeIndex: 1325 entries, 0 to 1324\n",
      "Data columns (total 18 columns):\n",
      "CUSIP                         1325 non-null object\n",
      "Ticker                        1325 non-null object\n",
      "Issue Date                    1325 non-null object\n",
      "Maturity                      1325 non-null object\n",
      "1st Call Date                 1325 non-null object\n",
      "Moodys                        1325 non-null object\n",
      "S_and_P                       1325 non-null object\n",
      "Fitch                         1325 non-null object\n",
      "Bloomberg Composite Rating    1325 non-null object\n",
      "Coupon                        1325 non-null float64\n",
      "Issued Amount                 1325 non-null int64\n",
      "Maturity Type                 1325 non-null object\n",
      "Coupon Type                   1325 non-null object\n",
      "Industry                      1325 non-null object\n",
      "Months in JNK                 1325 non-null int64\n",
      "Months in HYG                 1325 non-null int64\n",
      "Months in Both                1325 non-null int64\n",
      "LIQ SCORE                     1325 non-null float64\n",
      "dtypes: float64(2), int64(4), object(12)\n",
      "memory usage: 186.4+ KB\n"
     ]
    }
   ],
   "source": [
    "HYCB.info()"
   ]
  },
  {
   "cell_type": "code",
   "execution_count": 5,
   "metadata": {},
   "outputs": [
    {
     "data": {
      "text/html": [
       "<div>\n",
       "<style scoped>\n",
       "    .dataframe tbody tr th:only-of-type {\n",
       "        vertical-align: middle;\n",
       "    }\n",
       "\n",
       "    .dataframe tbody tr th {\n",
       "        vertical-align: top;\n",
       "    }\n",
       "\n",
       "    .dataframe thead th {\n",
       "        text-align: right;\n",
       "    }\n",
       "</style>\n",
       "<table border=\"1\" class=\"dataframe\">\n",
       "  <thead>\n",
       "    <tr style=\"text-align: right;\">\n",
       "      <th></th>\n",
       "      <th>Ticker</th>\n",
       "      <th>Issue Date</th>\n",
       "      <th>Maturity</th>\n",
       "      <th>1st Call Date</th>\n",
       "      <th>Moodys</th>\n",
       "      <th>S_and_P</th>\n",
       "      <th>Fitch</th>\n",
       "      <th>Bloomberg Composite Rating</th>\n",
       "      <th>Coupon</th>\n",
       "      <th>Issued Amount</th>\n",
       "      <th>Maturity Type</th>\n",
       "      <th>Coupon Type</th>\n",
       "      <th>Industry</th>\n",
       "      <th>Months in JNK</th>\n",
       "      <th>Months in HYG</th>\n",
       "      <th>Months in Both</th>\n",
       "      <th>LIQ SCORE</th>\n",
       "    </tr>\n",
       "    <tr>\n",
       "      <th>CUSIP</th>\n",
       "      <th></th>\n",
       "      <th></th>\n",
       "      <th></th>\n",
       "      <th></th>\n",
       "      <th></th>\n",
       "      <th></th>\n",
       "      <th></th>\n",
       "      <th></th>\n",
       "      <th></th>\n",
       "      <th></th>\n",
       "      <th></th>\n",
       "      <th></th>\n",
       "      <th></th>\n",
       "      <th></th>\n",
       "      <th></th>\n",
       "      <th></th>\n",
       "      <th></th>\n",
       "    </tr>\n",
       "  </thead>\n",
       "  <tbody>\n",
       "    <tr>\n",
       "      <th>00213MAL8</th>\n",
       "      <td>APXSEC</td>\n",
       "      <td>8/17/2016</td>\n",
       "      <td>12/1/2022</td>\n",
       "      <td>Nan</td>\n",
       "      <td>Nan</td>\n",
       "      <td>B-</td>\n",
       "      <td>Nan</td>\n",
       "      <td>NR</td>\n",
       "      <td>7.875</td>\n",
       "      <td>100000000</td>\n",
       "      <td>CALLABLE</td>\n",
       "      <td>EXCHANGED</td>\n",
       "      <td>Commercial Services</td>\n",
       "      <td>2</td>\n",
       "      <td>0</td>\n",
       "      <td>0</td>\n",
       "      <td>10.822582</td>\n",
       "    </tr>\n",
       "    <tr>\n",
       "      <th>576485AC0</th>\n",
       "      <td>MTDR</td>\n",
       "      <td>12/9/2016</td>\n",
       "      <td>4/15/2023</td>\n",
       "      <td>Nan</td>\n",
       "      <td>B3</td>\n",
       "      <td>NR</td>\n",
       "      <td>Nan</td>\n",
       "      <td>NR</td>\n",
       "      <td>6.875</td>\n",
       "      <td>175000000</td>\n",
       "      <td>CALLABLE</td>\n",
       "      <td>EXCHANGED</td>\n",
       "      <td>Oil Gas</td>\n",
       "      <td>4</td>\n",
       "      <td>0</td>\n",
       "      <td>0</td>\n",
       "      <td>11.392744</td>\n",
       "    </tr>\n",
       "    <tr>\n",
       "      <th>18683KAJ0</th>\n",
       "      <td>CLF</td>\n",
       "      <td>3/2/2016</td>\n",
       "      <td>9/30/2020</td>\n",
       "      <td>Nan</td>\n",
       "      <td>WR</td>\n",
       "      <td>NR</td>\n",
       "      <td>Nan</td>\n",
       "      <td>NR</td>\n",
       "      <td>8.000</td>\n",
       "      <td>218545000</td>\n",
       "      <td>CALLABLE</td>\n",
       "      <td>FIXED</td>\n",
       "      <td>Iron/Steel</td>\n",
       "      <td>0</td>\n",
       "      <td>1</td>\n",
       "      <td>0</td>\n",
       "      <td>12.567121</td>\n",
       "    </tr>\n",
       "    <tr>\n",
       "      <th>172441BA4</th>\n",
       "      <td>CNK</td>\n",
       "      <td>3/21/2016</td>\n",
       "      <td>6/1/2023</td>\n",
       "      <td>Nan</td>\n",
       "      <td>B2</td>\n",
       "      <td>BB</td>\n",
       "      <td>Nan</td>\n",
       "      <td>B+</td>\n",
       "      <td>4.875</td>\n",
       "      <td>225000000</td>\n",
       "      <td>CALLABLE</td>\n",
       "      <td>EXCHANGED</td>\n",
       "      <td>Entertainment</td>\n",
       "      <td>2</td>\n",
       "      <td>2</td>\n",
       "      <td>1</td>\n",
       "      <td>12.536384</td>\n",
       "    </tr>\n",
       "    <tr>\n",
       "      <th>184496AM9</th>\n",
       "      <td>CLH</td>\n",
       "      <td>3/17/2016</td>\n",
       "      <td>6/1/2021</td>\n",
       "      <td>Nan</td>\n",
       "      <td>Nan</td>\n",
       "      <td>BB+</td>\n",
       "      <td>Nan</td>\n",
       "      <td>NR</td>\n",
       "      <td>5.125</td>\n",
       "      <td>250000000</td>\n",
       "      <td>CALLABLE</td>\n",
       "      <td>EXCHANGED</td>\n",
       "      <td>Environmental Control</td>\n",
       "      <td>3</td>\n",
       "      <td>0</td>\n",
       "      <td>0</td>\n",
       "      <td>11.572853</td>\n",
       "    </tr>\n",
       "  </tbody>\n",
       "</table>\n",
       "</div>"
      ],
      "text/plain": [
       "           Ticker Issue Date   Maturity 1st Call Date Moodys S_and_P Fitch  \\\n",
       "CUSIP                                                                        \n",
       "00213MAL8  APXSEC  8/17/2016  12/1/2022           Nan    Nan      B-   Nan   \n",
       "576485AC0    MTDR  12/9/2016  4/15/2023           Nan     B3      NR   Nan   \n",
       "18683KAJ0     CLF   3/2/2016  9/30/2020           Nan     WR      NR   Nan   \n",
       "172441BA4     CNK  3/21/2016   6/1/2023           Nan     B2      BB   Nan   \n",
       "184496AM9     CLH  3/17/2016   6/1/2021           Nan    Nan     BB+   Nan   \n",
       "\n",
       "          Bloomberg Composite Rating  Coupon  Issued Amount Maturity Type  \\\n",
       "CUSIP                                                                       \n",
       "00213MAL8                         NR   7.875      100000000      CALLABLE   \n",
       "576485AC0                         NR   6.875      175000000      CALLABLE   \n",
       "18683KAJ0                         NR   8.000      218545000      CALLABLE   \n",
       "172441BA4                         B+   4.875      225000000      CALLABLE   \n",
       "184496AM9                         NR   5.125      250000000      CALLABLE   \n",
       "\n",
       "          Coupon Type               Industry  Months in JNK  Months in HYG  \\\n",
       "CUSIP                                                                        \n",
       "00213MAL8   EXCHANGED    Commercial Services              2              0   \n",
       "576485AC0   EXCHANGED                Oil Gas              4              0   \n",
       "18683KAJ0       FIXED             Iron/Steel              0              1   \n",
       "172441BA4   EXCHANGED          Entertainment              2              2   \n",
       "184496AM9   EXCHANGED  Environmental Control              3              0   \n",
       "\n",
       "           Months in Both  LIQ SCORE  \n",
       "CUSIP                                 \n",
       "00213MAL8               0  10.822582  \n",
       "576485AC0               0  11.392744  \n",
       "18683KAJ0               0  12.567121  \n",
       "172441BA4               1  12.536384  \n",
       "184496AM9               0  11.572853  "
      ]
     },
     "execution_count": 5,
     "metadata": {},
     "output_type": "execute_result"
    }
   ],
   "source": [
    "# Set CUSIP as the index of the dataframe\n",
    "HYCB.set_index('CUSIP',inplace=True)\n",
    "HYCB.head()"
   ]
  },
  {
   "cell_type": "code",
   "execution_count": 6,
   "metadata": {},
   "outputs": [
    {
     "data": {
      "text/html": [
       "<div>\n",
       "<style scoped>\n",
       "    .dataframe tbody tr th:only-of-type {\n",
       "        vertical-align: middle;\n",
       "    }\n",
       "\n",
       "    .dataframe tbody tr th {\n",
       "        vertical-align: top;\n",
       "    }\n",
       "\n",
       "    .dataframe thead th {\n",
       "        text-align: right;\n",
       "    }\n",
       "</style>\n",
       "<table border=\"1\" class=\"dataframe\">\n",
       "  <thead>\n",
       "    <tr style=\"text-align: right;\">\n",
       "      <th></th>\n",
       "      <th>Coupon</th>\n",
       "      <th>Issued Amount</th>\n",
       "      <th>Months in JNK</th>\n",
       "      <th>Months in HYG</th>\n",
       "      <th>Months in Both</th>\n",
       "      <th>LIQ SCORE</th>\n",
       "    </tr>\n",
       "  </thead>\n",
       "  <tbody>\n",
       "    <tr>\n",
       "      <th>count</th>\n",
       "      <td>1325.000000</td>\n",
       "      <td>1.325000e+03</td>\n",
       "      <td>1325.000000</td>\n",
       "      <td>1325.000000</td>\n",
       "      <td>1325.000000</td>\n",
       "      <td>1325.000000</td>\n",
       "    </tr>\n",
       "    <tr>\n",
       "      <th>mean</th>\n",
       "      <td>6.702281</td>\n",
       "      <td>8.468333e+08</td>\n",
       "      <td>15.838491</td>\n",
       "      <td>21.599245</td>\n",
       "      <td>11.756226</td>\n",
       "      <td>17.302374</td>\n",
       "    </tr>\n",
       "    <tr>\n",
       "      <th>std</th>\n",
       "      <td>1.912254</td>\n",
       "      <td>5.184617e+08</td>\n",
       "      <td>16.380148</td>\n",
       "      <td>18.525156</td>\n",
       "      <td>15.434352</td>\n",
       "      <td>4.686043</td>\n",
       "    </tr>\n",
       "    <tr>\n",
       "      <th>min</th>\n",
       "      <td>1.875000</td>\n",
       "      <td>1.000000e+08</td>\n",
       "      <td>0.000000</td>\n",
       "      <td>0.000000</td>\n",
       "      <td>0.000000</td>\n",
       "      <td>6.926415</td>\n",
       "    </tr>\n",
       "    <tr>\n",
       "      <th>25%</th>\n",
       "      <td>5.375000</td>\n",
       "      <td>5.000000e+08</td>\n",
       "      <td>1.000000</td>\n",
       "      <td>5.000000</td>\n",
       "      <td>0.000000</td>\n",
       "      <td>13.887567</td>\n",
       "    </tr>\n",
       "    <tr>\n",
       "      <th>50%</th>\n",
       "      <td>6.500000</td>\n",
       "      <td>7.000000e+08</td>\n",
       "      <td>11.000000</td>\n",
       "      <td>17.000000</td>\n",
       "      <td>4.000000</td>\n",
       "      <td>16.449749</td>\n",
       "    </tr>\n",
       "    <tr>\n",
       "      <th>75%</th>\n",
       "      <td>7.875000</td>\n",
       "      <td>1.000000e+09</td>\n",
       "      <td>27.000000</td>\n",
       "      <td>35.000000</td>\n",
       "      <td>20.000000</td>\n",
       "      <td>19.771230</td>\n",
       "    </tr>\n",
       "    <tr>\n",
       "      <th>max</th>\n",
       "      <td>14.000000</td>\n",
       "      <td>7.364026e+09</td>\n",
       "      <td>64.000000</td>\n",
       "      <td>67.000000</td>\n",
       "      <td>63.000000</td>\n",
       "      <td>37.843738</td>\n",
       "    </tr>\n",
       "  </tbody>\n",
       "</table>\n",
       "</div>"
      ],
      "text/plain": [
       "            Coupon  Issued Amount  Months in JNK  Months in HYG  \\\n",
       "count  1325.000000   1.325000e+03    1325.000000    1325.000000   \n",
       "mean      6.702281   8.468333e+08      15.838491      21.599245   \n",
       "std       1.912254   5.184617e+08      16.380148      18.525156   \n",
       "min       1.875000   1.000000e+08       0.000000       0.000000   \n",
       "25%       5.375000   5.000000e+08       1.000000       5.000000   \n",
       "50%       6.500000   7.000000e+08      11.000000      17.000000   \n",
       "75%       7.875000   1.000000e+09      27.000000      35.000000   \n",
       "max      14.000000   7.364026e+09      64.000000      67.000000   \n",
       "\n",
       "       Months in Both    LIQ SCORE  \n",
       "count     1325.000000  1325.000000  \n",
       "mean        11.756226    17.302374  \n",
       "std         15.434352     4.686043  \n",
       "min          0.000000     6.926415  \n",
       "25%          0.000000    13.887567  \n",
       "50%          4.000000    16.449749  \n",
       "75%         20.000000    19.771230  \n",
       "max         63.000000    37.843738  "
      ]
     },
     "execution_count": 6,
     "metadata": {},
     "output_type": "execute_result"
    }
   ],
   "source": [
    "# Something about the data\n",
    "HYCB.describe()"
   ]
  },
  {
   "cell_type": "code",
   "execution_count": 7,
   "metadata": {},
   "outputs": [
    {
     "data": {
      "image/png": "[encoded data removed]",
      "text/plain": [
       "<Figure size 432x288 with 1 Axes>"
      ]
     },
     "metadata": {
      "needs_background": "light"
     },
     "output_type": "display_data"
    }
   ],
   "source": [
    "# Q-Q Plot\n",
    "from scipy import stats\n",
    "stats.probplot(HYCB.Coupon, dist=\"norm\", plot=plt)\n",
    "plt.show()"
   ]
  },
  {
   "cell_type": "code",
   "execution_count": 8,
   "metadata": {},
   "outputs": [
    {
     "data": {
      "image/png": "[encoded data removed]",
      "text/plain": [
       "<Figure size 432x288 with 1 Axes>"
      ]
     },
     "metadata": {
      "needs_background": "light"
     },
     "output_type": "display_data"
    }
   ],
   "source": [
    "# Parallel Coordinates Plots\n",
    "from pandas.plotting import parallel_coordinates\n",
    "features = HYCB[['Issue Date', 'Maturity', 'S_and_P']][:20]\n",
    "\n",
    "parallel_coordinates(features, 'S_and_P')\n",
    "plt.legend(loc='upper center', bbox_to_anchor=(0.5,-0.1),ncol=2,fancybox=True,shadow=True)\n",
    "plt.show()"
   ]
  },
  {
   "cell_type": "code",
   "execution_count": 9,
   "metadata": {},
   "outputs": [
    {
     "data": {
      "image/png": "[encoded data removed]",
      "text/plain": [
       "<Figure size 432x288 with 1 Axes>"
      ]
     },
     "metadata": {
      "needs_background": "light"
     },
     "output_type": "display_data"
    }
   ],
   "source": [
    "# Correct the code on the book, so it plots columns instead of rows\n",
    "data1 = HYCB.iloc[:100, 8]\n",
    "data2 = HYCB.iloc[:100, 9]\n",
    "\n",
    "plt.xlabel('Coupon')\n",
    "plt.ylabel('Issue Amount')\n",
    "plt.scatter(data1, data2)\n",
    "plt.show()"
   ]
  },
  {
   "cell_type": "code",
   "execution_count": 10,
   "metadata": {},
   "outputs": [
    {
     "data": {
      "text/plain": [
       "array([[1.        , 0.61171004],\n",
       "       [0.61171004, 1.        ]])"
      ]
     },
     "execution_count": 10,
     "metadata": {},
     "output_type": "execute_result"
    }
   ],
   "source": [
    "# Corr between 'Months in HYG' and 'LIQ SCORE'\n",
    "np.corrcoef(HYCB['Months in HYG'], HYCB['LIQ SCORE'])"
   ]
  },
  {
   "cell_type": "code",
   "execution_count": 11,
   "metadata": {},
   "outputs": [
    {
     "data": {
      "image/png": "[encoded data removed]",
      "text/plain": [
       "<Figure size 432x288 with 1 Axes>"
      ]
     },
     "metadata": {
      "needs_background": "light"
     },
     "output_type": "display_data"
    }
   ],
   "source": [
    "plt.scatter(HYCB['Months in HYG'], HYCB['LIQ SCORE'])\n",
    "plt.xlabel('Month in HYG')\n",
    "plt.ylabel('LIQ SCORE')\n",
    "plt.show()"
   ]
  },
  {
   "cell_type": "code",
   "execution_count": 12,
   "metadata": {},
   "outputs": [
    {
     "data": {
      "text/html": [
       "<div>\n",
       "<style scoped>\n",
       "    .dataframe tbody tr th:only-of-type {\n",
       "        vertical-align: middle;\n",
       "    }\n",
       "\n",
       "    .dataframe tbody tr th {\n",
       "        vertical-align: top;\n",
       "    }\n",
       "\n",
       "    .dataframe thead th {\n",
       "        text-align: right;\n",
       "    }\n",
       "</style>\n",
       "<table border=\"1\" class=\"dataframe\">\n",
       "  <thead>\n",
       "    <tr style=\"text-align: right;\">\n",
       "      <th></th>\n",
       "      <th>Coupon</th>\n",
       "      <th>Issued Amount</th>\n",
       "      <th>Months in JNK</th>\n",
       "      <th>Months in HYG</th>\n",
       "      <th>Months in Both</th>\n",
       "      <th>LIQ SCORE</th>\n",
       "    </tr>\n",
       "  </thead>\n",
       "  <tbody>\n",
       "    <tr>\n",
       "      <th>Coupon</th>\n",
       "      <td>1.000000</td>\n",
       "      <td>0.092535</td>\n",
       "      <td>0.002079</td>\n",
       "      <td>-0.022577</td>\n",
       "      <td>-0.049530</td>\n",
       "      <td>-0.010168</td>\n",
       "    </tr>\n",
       "    <tr>\n",
       "      <th>Issued Amount</th>\n",
       "      <td>0.092535</td>\n",
       "      <td>1.000000</td>\n",
       "      <td>0.152341</td>\n",
       "      <td>0.068130</td>\n",
       "      <td>0.225144</td>\n",
       "      <td>0.275242</td>\n",
       "    </tr>\n",
       "    <tr>\n",
       "      <th>Months in JNK</th>\n",
       "      <td>0.002079</td>\n",
       "      <td>0.152341</td>\n",
       "      <td>1.000000</td>\n",
       "      <td>0.373561</td>\n",
       "      <td>0.833771</td>\n",
       "      <td>0.344964</td>\n",
       "    </tr>\n",
       "    <tr>\n",
       "      <th>Months in HYG</th>\n",
       "      <td>-0.022577</td>\n",
       "      <td>0.068130</td>\n",
       "      <td>0.373561</td>\n",
       "      <td>1.000000</td>\n",
       "      <td>0.622751</td>\n",
       "      <td>0.611710</td>\n",
       "    </tr>\n",
       "    <tr>\n",
       "      <th>Months in Both</th>\n",
       "      <td>-0.049530</td>\n",
       "      <td>0.225144</td>\n",
       "      <td>0.833771</td>\n",
       "      <td>0.622751</td>\n",
       "      <td>1.000000</td>\n",
       "      <td>0.403761</td>\n",
       "    </tr>\n",
       "    <tr>\n",
       "      <th>LIQ SCORE</th>\n",
       "      <td>-0.010168</td>\n",
       "      <td>0.275242</td>\n",
       "      <td>0.344964</td>\n",
       "      <td>0.611710</td>\n",
       "      <td>0.403761</td>\n",
       "      <td>1.000000</td>\n",
       "    </tr>\n",
       "  </tbody>\n",
       "</table>\n",
       "</div>"
      ],
      "text/plain": [
       "                  Coupon  Issued Amount  Months in JNK  Months in HYG  \\\n",
       "Coupon          1.000000       0.092535       0.002079      -0.022577   \n",
       "Issued Amount   0.092535       1.000000       0.152341       0.068130   \n",
       "Months in JNK   0.002079       0.152341       1.000000       0.373561   \n",
       "Months in HYG  -0.022577       0.068130       0.373561       1.000000   \n",
       "Months in Both -0.049530       0.225144       0.833771       0.622751   \n",
       "LIQ SCORE      -0.010168       0.275242       0.344964       0.611710   \n",
       "\n",
       "                Months in Both  LIQ SCORE  \n",
       "Coupon               -0.049530  -0.010168  \n",
       "Issued Amount         0.225144   0.275242  \n",
       "Months in JNK         0.833771   0.344964  \n",
       "Months in HYG         0.622751   0.611710  \n",
       "Months in Both        1.000000   0.403761  \n",
       "LIQ SCORE             0.403761   1.000000  "
      ]
     },
     "execution_count": 12,
     "metadata": {},
     "output_type": "execute_result"
    }
   ],
   "source": [
    "# Correlations\n",
    "corMat = pd.DataFrame(HYCB.corr())\n",
    "corMat"
   ]
  },
  {
   "cell_type": "code",
   "execution_count": 13,
   "metadata": {},
   "outputs": [
    {
     "data": {
      "image/png": "[encoded data removed]",
      "text/plain": [
       "<Figure size 432x288 with 1 Axes>"
      ]
     },
     "metadata": {
      "needs_background": "light"
     },
     "output_type": "display_data"
    }
   ],
   "source": [
    "# Heat map\n",
    "plt.pcolor(corMat)\n",
    "plt.show()"
   ]
  },
  {
   "cell_type": "code",
   "execution_count": 14,
   "metadata": {},
   "outputs": [
    {
     "name": "stdout",
     "output_type": "stream",
     "text": [
      "My name is Zizheng Zhang\n",
      "My NetID is: zizheng2\n",
      "I hereby certify that I have read the University policy on Academic Integrity and that I am not in violation.\n"
     ]
    }
   ],
   "source": [
    "print(\"My name is Zizheng Zhang\")\n",
    "print(\"My NetID is: zizheng2\")\n",
    "print(\"I hereby certify that I have read the University policy on Academic Integrity and that I am not in violation.\")"
   ]
  },
  {
   "cell_type": "code",
   "execution_count": null,
   "metadata": {},
   "outputs": [],
   "source": []
  }
 ],
 "metadata": {
  "kernelspec": {
   "display_name": "Python 3",
   "language": "python",
   "name": "python3"
  },
  "language_info": {
   "codemirror_mode": {
    "name": "ipython",
    "version": 3
   },
   "file_extension": ".py",
   "mimetype": "text/x-python",
   "name": "python",
   "nbconvert_exporter": "python",
   "pygments_lexer": "ipython3",
   "version": "3.7.3"
  }
 },
 "nbformat": 4,
 "nbformat_minor": 2
}
